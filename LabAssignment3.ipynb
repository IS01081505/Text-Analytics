{
 "cells": [
  {
   "cell_type": "code",
   "execution_count": 1,
   "id": "5eb3beeb",
   "metadata": {},
   "outputs": [],
   "source": [
    "import pandas as pd\n",
    "import nltk\n",
    "from nltk.corpus import stopwords\n",
    "from nltk.stem import WordNetLemmatizer\n",
    "from gensim import corpora\n",
    "from gensim.models import LdaModel\n",
    "from gensim.models.coherencemodel import CoherenceModel\n",
    "import re\n",
    "import matplotlib.pyplot as plt"
   ]
  },
  {
   "cell_type": "code",
   "execution_count": 2,
   "id": "a66e1c87",
   "metadata": {},
   "outputs": [],
   "source": [
    "df = pd.read_csv('news_dataset.csv')\n",
    "\n",
    "texts = df['text'].dropna().tolist()"
   ]
  },
  {
   "cell_type": "code",
   "execution_count": 3,
   "id": "f6fd44e2",
   "metadata": {},
   "outputs": [
    {
     "name": "stderr",
     "output_type": "stream",
     "text": [
      "[nltk_data] Downloading package stopwords to C:\\Users\\Tharma\n",
      "[nltk_data]     Raj\\AppData\\Roaming\\nltk_data...\n",
      "[nltk_data]   Package stopwords is already up-to-date!\n",
      "[nltk_data] Downloading package wordnet to C:\\Users\\Tharma\n",
      "[nltk_data]     Raj\\AppData\\Roaming\\nltk_data...\n",
      "[nltk_data]   Package wordnet is already up-to-date!\n",
      "[nltk_data] Downloading package omw-1.4 to C:\\Users\\Tharma\n",
      "[nltk_data]     Raj\\AppData\\Roaming\\nltk_data...\n"
     ]
    }
   ],
   "source": [
    "nltk.download('stopwords')\n",
    "nltk.download('wordnet')\n",
    "nltk.download('omw-1.4')\n",
    "\n",
    "stop_words = set(stopwords.words('english'))\n",
    "lemmatizer = WordNetLemmatizer()\n",
    "\n",
    "def preprocess_text(text):\n",
    "    text = re.sub(r'\\W', ' ', text)\n",
    "    tokens = text.lower().split()\n",
    "    tokens = [lemmatizer.lemmatize(token) for token in tokens if token not in stop_words]\n",
    "    return tokens\n",
    "\n",
    "processed_texts = [preprocess_text(text) for text in texts]"
   ]
  },
  {
   "cell_type": "code",
   "execution_count": 7,
   "id": "37a15bd4",
   "metadata": {},
   "outputs": [],
   "source": [
    "dictionary = corpora.Dictionary(processed_texts)\n",
    "\n",
    "dictionary.filter_extremes(no_below=15, no_above=0.5)\n",
    "\n",
    "corpus = [dictionary.doc2bow(text) for text in processed_texts]\n",
    "\n",
    "lda_model = LdaModel(corpus, num_topics=4, id2word=dictionary, passes=15)"
   ]
  },
  {
   "cell_type": "code",
   "execution_count": 8,
   "id": "c1ef9c00",
   "metadata": {},
   "outputs": [
    {
     "name": "stdout",
     "output_type": "stream",
     "text": [
      "Coherence Score: 0.7337524525375043\n"
     ]
    }
   ],
   "source": [
    "coherence_model_lda = CoherenceModel(model=lda_model, texts=processed_texts, dictionary=dictionary, coherence='c_v')\n",
    "coherence_score = coherence_model_lda.get_coherence()\n",
    "\n",
    "print(f'Coherence Score: {coherence_score}')"
   ]
  },
  {
   "cell_type": "code",
   "execution_count": 13,
   "id": "d2d9f2ab",
   "metadata": {},
   "outputs": [
    {
     "name": "stdout",
     "output_type": "stream",
     "text": [
      "(0, '0.060*\"1\" + 0.058*\"0\" + 0.040*\"2\" + 0.038*\"x\" + 0.027*\"3\" + 0.026*\"4\" + 0.025*\"5\" + 0.021*\"6\" + 0.021*\"w\" + 0.019*\"7\"')\n",
      "(1, '0.607*\"ax\" + 0.063*\"q\" + 0.045*\"max\" + 0.029*\"3\" + 0.020*\"p\" + 0.017*\"r\" + 0.015*\"g\" + 0.014*\"7\" + 0.011*\"n\" + 0.007*\"pl\"')\n",
      "(2, '0.011*\"key\" + 0.007*\"use\" + 0.007*\"system\" + 0.007*\"file\" + 0.006*\"one\" + 0.005*\"edu\" + 0.005*\"chip\" + 0.005*\"program\" + 0.004*\"encryption\" + 0.004*\"window\"')\n",
      "(3, '0.009*\"would\" + 0.008*\"one\" + 0.008*\"people\" + 0.005*\"think\" + 0.005*\"know\" + 0.005*\"time\" + 0.004*\"u\" + 0.004*\"like\" + 0.004*\"say\" + 0.004*\"year\"')\n"
     ]
    }
   ],
   "source": [
    "topics = lda_model.print_topics(num_words=10)\n",
    "for topic in topics:\n",
    "    print(topic)\n",
    "    \n",
    "#Tharma Raj(IS01081129)\n",
    "#Yovesh Varma(IS01081505)\n",
    "    \n",
    "#Explanation\n",
    "#The coherence score is a statistic that is employed in topic models, such the LDA (Latent Dirichlet Allocation) model utilized in this investigation, to assess the quality and interpretability of resulting topics. The concepts that the LDA model identified have a coherence score of 0.7337524525375043, which means that the words inside each subject are logically connected and make sense when combined. Better subject coherence is often indicated by a coherence score nearer to 1, while less significant topics are indicated by a score nearer to 0. Consequently, a score of roughly 0.73 indicates that, while there may still be space for development, the model has generated themes that are well-formed and interpretable. This coherence score suggests that the LDA model parameters and preprocessing techniques, including stopword removal and lemmatization, are successfully capturing the underlying themes in the news dataset."
   ]
  },
  {
   "cell_type": "code",
   "execution_count": null,
   "id": "f6bd36ec",
   "metadata": {},
   "outputs": [],
   "source": []
  },
  {
   "cell_type": "code",
   "execution_count": null,
   "id": "54a70cb2",
   "metadata": {},
   "outputs": [],
   "source": []
  }
 ],
 "metadata": {
  "kernelspec": {
   "display_name": "Python 3 (ipykernel)",
   "language": "python",
   "name": "python3"
  },
  "language_info": {
   "codemirror_mode": {
    "name": "ipython",
    "version": 3
   },
   "file_extension": ".py",
   "mimetype": "text/x-python",
   "name": "python",
   "nbconvert_exporter": "python",
   "pygments_lexer": "ipython3",
   "version": "3.11.5"
  }
 },
 "nbformat": 4,
 "nbformat_minor": 5
}
